{
 "cells": [
  {
   "cell_type": "code",
   "execution_count": 1,
   "id": "38c9f6cb-9a19-4f00-806e-e74197db4d85",
   "metadata": {},
   "outputs": [
    {
     "name": "stdout",
     "output_type": "stream",
     "text": [
      "Resultado de la operación: 10.0\n",
      "Nombre capitalizado: Paolo Rossi\n",
      "Lista de leyendas deportivas: ['Cruyff', 'Vilas', 'Rossi', 'Thor']\n",
      "Tu perfil técnico-filosófico: {'nombre': 'Selva', 'rol': 'Data Analyst (en proceso)', 'pasión': 'Ética deportiva y storytelling'}\n"
     ]
    }
   ],
   "source": [
    "# Proyecto Final - Curso 4: Python para Ciencia de Datos, IA y Desarrollo\n",
    "# Autora: Selva Jorgelina C. (Martino) Pérez\n",
    "# Fecha: 30/07/2025\n",
    "\n",
    "# Ejercicio 1 - Operaciones Aritméticas\n",
    "resultado = (12 / 4) + 7\n",
    "print(\"Resultado de la operación:\", resultado)\n",
    "\n",
    "# Ejercicio 2 - Manipulación de cadenas\n",
    "jugador = \"paolo rossi\"\n",
    "print(\"Nombre capitalizado:\", jugador.title())\n",
    "\n",
    "# Ejercicio 3 - Listas y métodos\n",
    "leyendas = [\"Cruyff\", \"Vilas\", \"Rossi\"]\n",
    "leyendas.append(\"Thor\")\n",
    "print(\"Lista de leyendas deportivas:\", leyendas)\n",
    "\n",
    "# Ejercicio 4 - Diccionario básico\n",
    "perfil = {\n",
    "    \"nombre\": \"Selva\",\n",
    "    \"rol\": \"Data Analyst (en proceso)\",\n",
    "    \"pasión\": \"Ética deportiva y storytelling\"\n",
    "}\n",
    "print(\"Tu perfil técnico-filosófico:\", perfil)\n"
   ]
  },
  {
   "cell_type": "code",
   "execution_count": 2,
   "id": "1fec4e7a-fe24-4476-98a3-50c7e08df0f4",
   "metadata": {},
   "outputs": [
    {
     "name": "stdout",
     "output_type": "stream",
     "text": [
      "Promedio de Rossi: 0.86\n"
     ]
    }
   ],
   "source": [
    "# Función que calcula el promedio de goles por partido\n",
    "def promedio_goles(goles, partidos):\n",
    "    if partidos == 0:\n",
    "        return \"No se puede dividir por cero\"\n",
    "    return round(goles / partidos, 2)\n",
    "\n",
    "# Ejemplo con Paolo Rossi en Italia 82\n",
    "goles_rossi = 6\n",
    "partidos_rossi = 7\n",
    "print(\"Promedio de Rossi:\", promedio_goles(goles_rossi, partidos_rossi))\n"
   ]
  },
  {
   "cell_type": "code",
   "execution_count": 3,
   "id": "10792989-3ed2-4286-bace-d4f7802b4949",
   "metadata": {},
   "outputs": [
    {
     "name": "stdout",
     "output_type": "stream",
     "text": [
      "Leyendas guardadas en el archivo:\n",
      "Cruyff\n",
      "Vilas\n",
      "Rossi\n",
      "Thor\n"
     ]
    }
   ],
   "source": [
    "# Lectura básica de un archivo con nombres de leyendas deportivas\n",
    "# Creamos primero el archivo (modo escritura)\n",
    "with open(\"leyendas.txt\", \"w\") as archivo:\n",
    "    archivo.write(\"Cruyff\\nVilas\\nRossi\\nThor\")\n",
    "\n",
    "# Luego lo leemos\n",
    "with open(\"leyendas.txt\", \"r\") as archivo:\n",
    "    contenido = archivo.read()\n",
    "    print(\"Leyendas guardadas en el archivo:\")\n",
    "    print(contenido)\n"
   ]
  },
  {
   "cell_type": "code",
   "execution_count": 5,
   "id": "e16b9899-0dc2-4f21-9c25-63170c087789",
   "metadata": {},
   "outputs": [
    {
     "name": "stdout",
     "output_type": "stream",
     "text": [
      "Leyenda destacada: Guillermo Vilas\n"
     ]
    }
   ],
   "source": [
    "from bs4 import BeautifulSoup\n",
    "\n",
    "# HTML simulado como ejemplo de scraping\n",
    "html_simulado = \"<html><body><h1>Guillermo Vilas</h1></body></html>\"\n",
    "\n",
    "soup = BeautifulSoup(html_simulado, \"html.parser\")\n",
    "leyenda = soup.find(\"h1\")\n",
    "print(\"Leyenda destacada:\", leyenda.text)\n"
   ]
  },
  {
   "cell_type": "code",
   "execution_count": 6,
   "id": "e7b60153-eecd-4efb-8f93-02d6df9e415c",
   "metadata": {},
   "outputs": [
    {
     "name": "stdout",
     "output_type": "stream",
     "text": [
      "Primera cita obtenida: “The world as we have created it is a process of our thinking. It cannot be changed without changing our thinking.”\n"
     ]
    }
   ],
   "source": [
    "url = \"https://quotes.toscrape.com/\"\n",
    "response = requests.get(url)\n",
    "\n",
    "if response.status_code == 200:\n",
    "    soup = BeautifulSoup(response.text, \"html.parser\")\n",
    "    quote = soup.find(\"span\", class_=\"text\")\n",
    "    print(\"Primera cita obtenida:\", quote.text)\n"
   ]
  },
  {
   "cell_type": "code",
   "execution_count": null,
   "id": "ae566391-2318-43a2-baca-06c14107f90a",
   "metadata": {},
   "outputs": [],
   "source": []
  }
 ],
 "metadata": {
  "kernelspec": {
   "display_name": "Python 3 (ipykernel)",
   "language": "python",
   "name": "python3"
  },
  "language_info": {
   "codemirror_mode": {
    "name": "ipython",
    "version": 3
   },
   "file_extension": ".py",
   "mimetype": "text/x-python",
   "name": "python",
   "nbconvert_exporter": "python",
   "pygments_lexer": "ipython3",
   "version": "3.13.5"
  }
 },
 "nbformat": 4,
 "nbformat_minor": 5
}
